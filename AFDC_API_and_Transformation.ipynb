{
  "nbformat": 4,
  "nbformat_minor": 0,
  "metadata": {
    "colab": {
      "provenance": []
    },
    "kernelspec": {
      "name": "python3",
      "display_name": "Python 3"
    },
    "language_info": {
      "name": "python"
    }
  },
  "cells": [
    {
      "cell_type": "markdown",
      "source": [
        "# Import"
      ],
      "metadata": {
        "id": "TIQaKhJbkHhL"
      }
    },
    {
      "cell_type": "code",
      "execution_count": 1,
      "metadata": {
        "id": "a7yGvVTyjz_I"
      },
      "outputs": [],
      "source": [
        "import pandas as pd\n",
        "import numpy as np\n",
        "import requests\n",
        "import json"
      ]
    },
    {
      "cell_type": "markdown",
      "source": [
        "# Parameters"
      ],
      "metadata": {
        "id": "8s8CDmZrkN5c"
      }
    },
    {
      "cell_type": "code",
      "source": [
        "api_key = 'token'\n",
        "url = f'https://developer.nrel.gov/api/alt-fuel-stations/v1.json?api_key={api_key}&fuel_type=ELEC'\n",
        "\n",
        "output_filename = 'AFDC EV Station.csv'"
      ],
      "metadata": {
        "id": "JiPpHrGHkLWU"
      },
      "execution_count": 2,
      "outputs": []
    },
    {
      "cell_type": "markdown",
      "source": [
        "# API Call"
      ],
      "metadata": {
        "id": "faXFcHPHkijc"
      }
    },
    {
      "cell_type": "code",
      "source": [
        "r = requests.get(url)\n",
        "data = r.json()"
      ],
      "metadata": {
        "id": "crhVUUqOkhSU"
      },
      "execution_count": 3,
      "outputs": []
    },
    {
      "cell_type": "code",
      "source": [
        "data['fuel_stations'][0]"
      ],
      "metadata": {
        "colab": {
          "base_uri": "https://localhost:8080/"
        },
        "id": "1HgzmQp6kpuG",
        "outputId": "f03b8b20-12b4-4c3e-d525-50da29920519"
      },
      "execution_count": 4,
      "outputs": [
        {
          "output_type": "execute_result",
          "data": {
            "text/plain": [
              "{'access_code': 'private',\n",
              " 'access_days_time': 'Fleet use only',\n",
              " 'access_detail_code': None,\n",
              " 'cards_accepted': None,\n",
              " 'date_last_confirmed': '2023-01-10',\n",
              " 'expected_date': None,\n",
              " 'fuel_type_code': 'ELEC',\n",
              " 'groups_with_access_code': 'Private',\n",
              " 'id': 1517,\n",
              " 'open_date': '1999-10-15',\n",
              " 'owner_type_code': 'LG',\n",
              " 'status_code': 'E',\n",
              " 'restricted_access': None,\n",
              " 'station_name': 'LADWP - Truesdale Center',\n",
              " 'station_phone': None,\n",
              " 'updated_at': '2023-02-15T22:45:41Z',\n",
              " 'facility_type': 'UTILITY',\n",
              " 'geocode_status': 'GPS',\n",
              " 'latitude': 34.2483191527193,\n",
              " 'longitude': -118.3879713743439,\n",
              " 'city': 'Sun Valley',\n",
              " 'intersection_directions': None,\n",
              " 'plus4': None,\n",
              " 'state': 'CA',\n",
              " 'street_address': '11797 Truesdale St',\n",
              " 'zip': '91352',\n",
              " 'country': 'US',\n",
              " 'bd_blends': None,\n",
              " 'cng_dispenser_num': None,\n",
              " 'cng_fill_type_code': None,\n",
              " 'cng_psi': None,\n",
              " 'cng_renewable_source': None,\n",
              " 'cng_total_compression': None,\n",
              " 'cng_total_storage': None,\n",
              " 'cng_vehicle_class': None,\n",
              " 'e85_blender_pump': None,\n",
              " 'e85_other_ethanol_blends': None,\n",
              " 'ev_connector_types': ['CHADEMO', 'J1772', 'J1772COMBO'],\n",
              " 'ev_dc_fast_num': 3,\n",
              " 'ev_level1_evse_num': None,\n",
              " 'ev_level2_evse_num': 39,\n",
              " 'ev_network': 'Non-Networked',\n",
              " 'ev_network_web': None,\n",
              " 'ev_other_evse': None,\n",
              " 'ev_pricing': None,\n",
              " 'ev_renewable_source': None,\n",
              " 'hy_is_retail': None,\n",
              " 'hy_pressures': None,\n",
              " 'hy_standards': None,\n",
              " 'hy_status_link': None,\n",
              " 'lng_renewable_source': None,\n",
              " 'lng_vehicle_class': None,\n",
              " 'lpg_primary': None,\n",
              " 'lpg_nozzle_types': None,\n",
              " 'ng_fill_type_code': None,\n",
              " 'ng_psi': None,\n",
              " 'ng_vehicle_class': None,\n",
              " 'rd_blends': None,\n",
              " 'rd_blends_fr': None,\n",
              " 'rd_blended_with_biodiesel': None,\n",
              " 'rd_max_biodiesel_level': None,\n",
              " 'nps_unit_name': None,\n",
              " 'access_days_time_fr': None,\n",
              " 'intersection_directions_fr': None,\n",
              " 'bd_blends_fr': None,\n",
              " 'groups_with_access_code_fr': 'Privé',\n",
              " 'ev_pricing_fr': None}"
            ]
          },
          "metadata": {},
          "execution_count": 4
        }
      ]
    },
    {
      "cell_type": "markdown",
      "source": [
        "# Transformation"
      ],
      "metadata": {
        "id": "SqA542V2k9IG"
      }
    },
    {
      "cell_type": "code",
      "source": [
        "# Create containers for dataframe\n",
        "station_id_list = []\n",
        "station_name_list = []\n",
        "ev_netowrk_list = []\n",
        "ev_connection_list = []\n",
        "address_list = []\n",
        "state_list = []\n",
        "city_list = []\n",
        "access_list = []\n",
        "station_status_list = []\n",
        "open_date_list = []\n",
        "lat_list = []\n",
        "lng_list = []\n",
        "facility_list = []\n",
        "price_list = []"
      ],
      "metadata": {
        "id": "rdljRl5lkwgV"
      },
      "execution_count": 5,
      "outputs": []
    },
    {
      "cell_type": "code",
      "source": [
        "# Transformation\n",
        "# Go through each records provided from AFDC api\n",
        "# Keep only records that are necessary\n",
        "# Clean then store within containers\n",
        "\n",
        "for i in range(len(data['fuel_stations'])):\n",
        "  # station id\n",
        "  id = data['fuel_stations'][i]['id']\n",
        "  station_id_list.append(id)\n",
        "\n",
        "  # station name\n",
        "  station_name = data['fuel_stations'][i]['station_name']\n",
        "  station_name_list.append(station_name)\n",
        "\n",
        "  # ev netowrk\n",
        "  ev_network = data['fuel_stations'][i]['ev_network']\n",
        "  ev_netowrk_list.append(ev_network)\n",
        "\n",
        "  # ev connection\n",
        "  ev_connection_raw = str(data['fuel_stations'][i]['ev_connector_types'])\n",
        "\n",
        "  # Clean the output\n",
        "  ev_connection_step1 = ev_connection_raw.replace('[', '')\n",
        "  ev_connection_step2 = ev_connection_step1.replace(']', '')\n",
        "  ev_connection = ev_connection_step2.replace(\"'\", \"\")\n",
        "\n",
        "  ev_connection_list.append(ev_connection)\n",
        "\n",
        "  # address\n",
        "  street = data['fuel_stations'][i]['street_address']\n",
        "  city = data['fuel_stations'][i]['city']\n",
        "  state = data['fuel_stations'][i]['state']\n",
        "  zip = data['fuel_stations'][i]['zip']\n",
        "\n",
        "  address = f'{street}, {city}, {state}, {zip}'\n",
        "  address_list.append(address)\n",
        "\n",
        "  state_list.append(state)\n",
        "\n",
        "  city_list.append(city)\n",
        "\n",
        "  # station status\n",
        "  station_status_initial = data['fuel_stations'][i]['status_code']\n",
        "\n",
        "  if station_status_initial.upper() == 'P':\n",
        "    station_status = False\n",
        "  else:\n",
        "    station_status = True\n",
        "\n",
        "  station_status_list.append(station_status)\n",
        "\n",
        "  # public access\n",
        "  access_raw = data['fuel_stations'][i]['groups_with_access_code']\n",
        "\n",
        "  # Clean output\n",
        "  if 'PUBLIC' in access_raw.upper():\n",
        "    access = True\n",
        "  else:\n",
        "    access = False\n",
        "\n",
        "  access_list.append(access)\n",
        "\n",
        "  # open date\n",
        "  if station_status_initial.upper() == 'P':\n",
        "    open_date = data['fuel_stations'][i]['expected_date']\n",
        "  else:\n",
        "    open_date = data['fuel_stations'][i]['open_date']\n",
        "\n",
        "  open_date_list.append(open_date)\n",
        "\n",
        "  # lat and lng\n",
        "  lat = data['fuel_stations'][i]['latitude']\n",
        "  lng = data['fuel_stations'][i]['longitude']\n",
        "\n",
        "  lat_list.append(lat)\n",
        "  lng_list.append(lng)\n",
        "\n",
        "  # facility type\n",
        "  facility = data['fuel_stations'][i]['facility_type']\n",
        "  facility_list.append(facility)\n",
        "\n",
        "  # ev pricing\n",
        "  price = data['fuel_stations'][i]['ev_pricing']\n",
        "  price_list.append(price)\n"
      ],
      "metadata": {
        "id": "lG8URIiilM2Y"
      },
      "execution_count": 6,
      "outputs": []
    },
    {
      "cell_type": "code",
      "source": [
        "# Create Dataframe\n",
        "df = pd.DataFrame({'station_id': station_id_list,\n",
        "                   'station_name': station_name_list,\n",
        "                   'address': address_list,\n",
        "                   'state': state_list,\n",
        "                   'city': city_list,\n",
        "                   'ev_network': ev_netowrk_list,\n",
        "                   'ev_connection': ev_connection_list,\n",
        "                   'public_access': access_list,\n",
        "                   'station_status': station_status_list,\n",
        "                   'open_date': open_date_list,\n",
        "                   'latitude': lat_list,\n",
        "                   'longitude': lng_list,\n",
        "                   'facility': facility_list,\n",
        "                   'price': price_list})"
      ],
      "metadata": {
        "id": "DVyeoRu-lvMg"
      },
      "execution_count": 7,
      "outputs": []
    },
    {
      "cell_type": "code",
      "source": [
        "df.head()"
      ],
      "metadata": {
        "colab": {
          "base_uri": "https://localhost:8080/",
          "height": 372
        },
        "id": "XlFtfbIql-6V",
        "outputId": "efe74ff5-132c-4709-81a4-edddee5d54ef"
      },
      "execution_count": 8,
      "outputs": [
        {
          "output_type": "execute_result",
          "data": {
            "text/plain": [
              "   station_id                     station_name  \\\n",
              "0        1517         LADWP - Truesdale Center   \n",
              "1        1519  LADWP - West LA District Office   \n",
              "2        1523    Los Angeles Convention Center   \n",
              "3        1525    LADWP - John Ferraro Building   \n",
              "4        1531       LADWP - Haynes Power Plant   \n",
              "\n",
              "                                         address state         city  \\\n",
              "0      11797 Truesdale St, Sun Valley, CA, 91352    CA   Sun Valley   \n",
              "1  1394 S Sepulveda Blvd, Los Angeles, CA, 90024    CA  Los Angeles   \n",
              "2     1201 S Figueroa St, Los Angeles, CA, 90015    CA  Los Angeles   \n",
              "3          111 N Hope St, Los Angeles, CA, 90012    CA  Los Angeles   \n",
              "4           6801 E 2nd St, Long Beach, CA, 90803    CA   Long Beach   \n",
              "\n",
              "      ev_network               ev_connection  public_access  station_status  \\\n",
              "0  Non-Networked  CHADEMO, J1772, J1772COMBO          False            True   \n",
              "1  Non-Networked                       J1772          False            True   \n",
              "2  Non-Networked                       J1772           True            True   \n",
              "3  Non-Networked  CHADEMO, J1772, J1772COMBO          False            True   \n",
              "4  Non-Networked  CHADEMO, J1772, J1772COMBO          False            True   \n",
              "\n",
              "    open_date   latitude   longitude        facility              price  \n",
              "0  1999-10-15  34.248319 -118.387971         UTILITY               None  \n",
              "1  2020-02-28  34.052542 -118.448504         UTILITY               Free  \n",
              "2  1995-08-30  34.040539 -118.271387  PARKING_GARAGE  Free; parking fee  \n",
              "3  1999-10-15  34.059133 -118.248589         UTILITY               None  \n",
              "4  2018-05-01  33.759802 -118.096665         UTILITY               None  "
            ],
            "text/html": [
              "\n",
              "  <div id=\"df-7a0f69f2-7cf0-4bf2-a652-1f8dbc8d3a2e\">\n",
              "    <div class=\"colab-df-container\">\n",
              "      <div>\n",
              "<style scoped>\n",
              "    .dataframe tbody tr th:only-of-type {\n",
              "        vertical-align: middle;\n",
              "    }\n",
              "\n",
              "    .dataframe tbody tr th {\n",
              "        vertical-align: top;\n",
              "    }\n",
              "\n",
              "    .dataframe thead th {\n",
              "        text-align: right;\n",
              "    }\n",
              "</style>\n",
              "<table border=\"1\" class=\"dataframe\">\n",
              "  <thead>\n",
              "    <tr style=\"text-align: right;\">\n",
              "      <th></th>\n",
              "      <th>station_id</th>\n",
              "      <th>station_name</th>\n",
              "      <th>address</th>\n",
              "      <th>state</th>\n",
              "      <th>city</th>\n",
              "      <th>ev_network</th>\n",
              "      <th>ev_connection</th>\n",
              "      <th>public_access</th>\n",
              "      <th>station_status</th>\n",
              "      <th>open_date</th>\n",
              "      <th>latitude</th>\n",
              "      <th>longitude</th>\n",
              "      <th>facility</th>\n",
              "      <th>price</th>\n",
              "    </tr>\n",
              "  </thead>\n",
              "  <tbody>\n",
              "    <tr>\n",
              "      <th>0</th>\n",
              "      <td>1517</td>\n",
              "      <td>LADWP - Truesdale Center</td>\n",
              "      <td>11797 Truesdale St, Sun Valley, CA, 91352</td>\n",
              "      <td>CA</td>\n",
              "      <td>Sun Valley</td>\n",
              "      <td>Non-Networked</td>\n",
              "      <td>CHADEMO, J1772, J1772COMBO</td>\n",
              "      <td>False</td>\n",
              "      <td>True</td>\n",
              "      <td>1999-10-15</td>\n",
              "      <td>34.248319</td>\n",
              "      <td>-118.387971</td>\n",
              "      <td>UTILITY</td>\n",
              "      <td>None</td>\n",
              "    </tr>\n",
              "    <tr>\n",
              "      <th>1</th>\n",
              "      <td>1519</td>\n",
              "      <td>LADWP - West LA District Office</td>\n",
              "      <td>1394 S Sepulveda Blvd, Los Angeles, CA, 90024</td>\n",
              "      <td>CA</td>\n",
              "      <td>Los Angeles</td>\n",
              "      <td>Non-Networked</td>\n",
              "      <td>J1772</td>\n",
              "      <td>False</td>\n",
              "      <td>True</td>\n",
              "      <td>2020-02-28</td>\n",
              "      <td>34.052542</td>\n",
              "      <td>-118.448504</td>\n",
              "      <td>UTILITY</td>\n",
              "      <td>Free</td>\n",
              "    </tr>\n",
              "    <tr>\n",
              "      <th>2</th>\n",
              "      <td>1523</td>\n",
              "      <td>Los Angeles Convention Center</td>\n",
              "      <td>1201 S Figueroa St, Los Angeles, CA, 90015</td>\n",
              "      <td>CA</td>\n",
              "      <td>Los Angeles</td>\n",
              "      <td>Non-Networked</td>\n",
              "      <td>J1772</td>\n",
              "      <td>True</td>\n",
              "      <td>True</td>\n",
              "      <td>1995-08-30</td>\n",
              "      <td>34.040539</td>\n",
              "      <td>-118.271387</td>\n",
              "      <td>PARKING_GARAGE</td>\n",
              "      <td>Free; parking fee</td>\n",
              "    </tr>\n",
              "    <tr>\n",
              "      <th>3</th>\n",
              "      <td>1525</td>\n",
              "      <td>LADWP - John Ferraro Building</td>\n",
              "      <td>111 N Hope St, Los Angeles, CA, 90012</td>\n",
              "      <td>CA</td>\n",
              "      <td>Los Angeles</td>\n",
              "      <td>Non-Networked</td>\n",
              "      <td>CHADEMO, J1772, J1772COMBO</td>\n",
              "      <td>False</td>\n",
              "      <td>True</td>\n",
              "      <td>1999-10-15</td>\n",
              "      <td>34.059133</td>\n",
              "      <td>-118.248589</td>\n",
              "      <td>UTILITY</td>\n",
              "      <td>None</td>\n",
              "    </tr>\n",
              "    <tr>\n",
              "      <th>4</th>\n",
              "      <td>1531</td>\n",
              "      <td>LADWP - Haynes Power Plant</td>\n",
              "      <td>6801 E 2nd St, Long Beach, CA, 90803</td>\n",
              "      <td>CA</td>\n",
              "      <td>Long Beach</td>\n",
              "      <td>Non-Networked</td>\n",
              "      <td>CHADEMO, J1772, J1772COMBO</td>\n",
              "      <td>False</td>\n",
              "      <td>True</td>\n",
              "      <td>2018-05-01</td>\n",
              "      <td>33.759802</td>\n",
              "      <td>-118.096665</td>\n",
              "      <td>UTILITY</td>\n",
              "      <td>None</td>\n",
              "    </tr>\n",
              "  </tbody>\n",
              "</table>\n",
              "</div>\n",
              "      <button class=\"colab-df-convert\" onclick=\"convertToInteractive('df-7a0f69f2-7cf0-4bf2-a652-1f8dbc8d3a2e')\"\n",
              "              title=\"Convert this dataframe to an interactive table.\"\n",
              "              style=\"display:none;\">\n",
              "        \n",
              "  <svg xmlns=\"http://www.w3.org/2000/svg\" height=\"24px\"viewBox=\"0 0 24 24\"\n",
              "       width=\"24px\">\n",
              "    <path d=\"M0 0h24v24H0V0z\" fill=\"none\"/>\n",
              "    <path d=\"M18.56 5.44l.94 2.06.94-2.06 2.06-.94-2.06-.94-.94-2.06-.94 2.06-2.06.94zm-11 1L8.5 8.5l.94-2.06 2.06-.94-2.06-.94L8.5 2.5l-.94 2.06-2.06.94zm10 10l.94 2.06.94-2.06 2.06-.94-2.06-.94-.94-2.06-.94 2.06-2.06.94z\"/><path d=\"M17.41 7.96l-1.37-1.37c-.4-.4-.92-.59-1.43-.59-.52 0-1.04.2-1.43.59L10.3 9.45l-7.72 7.72c-.78.78-.78 2.05 0 2.83L4 21.41c.39.39.9.59 1.41.59.51 0 1.02-.2 1.41-.59l7.78-7.78 2.81-2.81c.8-.78.8-2.07 0-2.86zM5.41 20L4 18.59l7.72-7.72 1.47 1.35L5.41 20z\"/>\n",
              "  </svg>\n",
              "      </button>\n",
              "      \n",
              "  <style>\n",
              "    .colab-df-container {\n",
              "      display:flex;\n",
              "      flex-wrap:wrap;\n",
              "      gap: 12px;\n",
              "    }\n",
              "\n",
              "    .colab-df-convert {\n",
              "      background-color: #E8F0FE;\n",
              "      border: none;\n",
              "      border-radius: 50%;\n",
              "      cursor: pointer;\n",
              "      display: none;\n",
              "      fill: #1967D2;\n",
              "      height: 32px;\n",
              "      padding: 0 0 0 0;\n",
              "      width: 32px;\n",
              "    }\n",
              "\n",
              "    .colab-df-convert:hover {\n",
              "      background-color: #E2EBFA;\n",
              "      box-shadow: 0px 1px 2px rgba(60, 64, 67, 0.3), 0px 1px 3px 1px rgba(60, 64, 67, 0.15);\n",
              "      fill: #174EA6;\n",
              "    }\n",
              "\n",
              "    [theme=dark] .colab-df-convert {\n",
              "      background-color: #3B4455;\n",
              "      fill: #D2E3FC;\n",
              "    }\n",
              "\n",
              "    [theme=dark] .colab-df-convert:hover {\n",
              "      background-color: #434B5C;\n",
              "      box-shadow: 0px 1px 3px 1px rgba(0, 0, 0, 0.15);\n",
              "      filter: drop-shadow(0px 1px 2px rgba(0, 0, 0, 0.3));\n",
              "      fill: #FFFFFF;\n",
              "    }\n",
              "  </style>\n",
              "\n",
              "      <script>\n",
              "        const buttonEl =\n",
              "          document.querySelector('#df-7a0f69f2-7cf0-4bf2-a652-1f8dbc8d3a2e button.colab-df-convert');\n",
              "        buttonEl.style.display =\n",
              "          google.colab.kernel.accessAllowed ? 'block' : 'none';\n",
              "\n",
              "        async function convertToInteractive(key) {\n",
              "          const element = document.querySelector('#df-7a0f69f2-7cf0-4bf2-a652-1f8dbc8d3a2e');\n",
              "          const dataTable =\n",
              "            await google.colab.kernel.invokeFunction('convertToInteractive',\n",
              "                                                     [key], {});\n",
              "          if (!dataTable) return;\n",
              "\n",
              "          const docLinkHtml = 'Like what you see? Visit the ' +\n",
              "            '<a target=\"_blank\" href=https://colab.research.google.com/notebooks/data_table.ipynb>data table notebook</a>'\n",
              "            + ' to learn more about interactive tables.';\n",
              "          element.innerHTML = '';\n",
              "          dataTable['output_type'] = 'display_data';\n",
              "          await google.colab.output.renderOutput(dataTable, element);\n",
              "          const docLink = document.createElement('div');\n",
              "          docLink.innerHTML = docLinkHtml;\n",
              "          element.appendChild(docLink);\n",
              "        }\n",
              "      </script>\n",
              "    </div>\n",
              "  </div>\n",
              "  "
            ]
          },
          "metadata": {},
          "execution_count": 8
        }
      ]
    },
    {
      "cell_type": "markdown",
      "source": [
        "# Export file as csv"
      ],
      "metadata": {
        "id": "GV3ImjdjmH4p"
      }
    },
    {
      "cell_type": "code",
      "source": [
        "df.to_csv(output_filename, index=False)"
      ],
      "metadata": {
        "id": "zQaF88LNmB9F"
      },
      "execution_count": 9,
      "outputs": []
    },
    {
      "cell_type": "code",
      "source": [],
      "metadata": {
        "id": "phBO_Mnfma8Q"
      },
      "execution_count": null,
      "outputs": []
    }
  ]
}